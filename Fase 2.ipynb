{
  "nbformat": 4,
  "nbformat_minor": 0,
  "metadata": {
    "kernelspec": {
      "display_name": "Python 3",
      "language": "python",
      "name": "python3"
    },
    "language_info": {
      "codemirror_mode": {
        "name": "ipython",
        "version": 3
      },
      "file_extension": ".py",
      "mimetype": "text/x-python",
      "name": "python",
      "nbconvert_exporter": "python",
      "pygments_lexer": "ipython3",
      "version": "3.7.6"
    },
    "colab": {
      "provenance": []
    }
  },
  "cells": [
    {
      "cell_type": "markdown",
      "metadata": {
        "id": "NP0YmAkaGzy5"
      },
      "source": [
        "## Método de Eulero\n",
        "Dada la ecuación diferencial dy/dx = f(x,y) con condición inicial y(x0)=y0 queremos calcular la solución.\n"
      ]
    },
    {
      "cell_type": "code",
      "metadata": {
        "id": "hc-f5iIUGzzJ"
      },
      "source": [
        "import matplotlib.pyplot as plt\n",
        "import numpy as np"
      ],
      "execution_count": null,
      "outputs": []
    },
    {
      "cell_type": "code",
      "metadata": {
        "id": "4DEjpPCzGzzJ"
      },
      "source": [
        "def f(t, xv):\n",
        "  (x,y) = xv\n",
        "  return np.array([x-0.02*x*y-0.5*x,-y+0.01*x*y-0.5*y])"
      ],
      "execution_count": null,
      "outputs": []
    },
    {
      "cell_type": "code",
      "source": [
        "def eulerModificadoM(f,t0,tn,x0,n):\n",
        "  t = np.linspace(t0,tn,n+1)\n",
        "  m = 2\n",
        "  x = np.zeros((m,n+1))\n",
        "  x[:,0] = x0\n",
        "  h = (tn-t0)/n\n",
        "  for i in range(1,n+1):\n",
        "    x[:,i] = x[:,i-1] + h * f(t[i-1] + h/2, x[:,i-1] + h/2 * f(t[i-1], x[:,i-1]))\n",
        "  return ((t,x))\n",
        "\n",
        "(t,x) = eulerModificadoM(f, 0, 1, np.array([20,20]), 30)\n",
        "plt.plot(t, x[0], label = \"x\")\n",
        "plt.plot(t, x[1], label = \"y\")\n",
        "\n"
      ],
      "metadata": {
        "colab": {
          "base_uri": "https://localhost:8080/",
          "height": 282
        },
        "id": "iu-jpewslqSX",
        "outputId": "67042340-a702-4493-c448-0a376572a525"
      },
      "execution_count": null,
      "outputs": [
        {
          "output_type": "execute_result",
          "data": {
            "text/plain": [
              "[<matplotlib.lines.Line2D at 0x7f6456addf90>]"
            ]
          },
          "metadata": {},
          "execution_count": 16
        },
        {
          "output_type": "display_data",
          "data": {
            "text/plain": [
              "<Figure size 432x288 with 1 Axes>"
            ],
            "image/png": "[encoded data removed]"
          },
          "metadata": {
            "needs_background": "light"
          }
        }
      ]
    }
  ]
}